{
  "nbformat": 4,
  "nbformat_minor": 0,
  "metadata": {
    "colab": {
      "name": "Untitled5.ipynb",
      "provenance": [],
      "collapsed_sections": [],
      "include_colab_link": true
    },
    "kernelspec": {
      "name": "python3",
      "display_name": "Python 3"
    },
    "language_info": {
      "name": "python"
    }
  },
  "cells": [
    {
      "cell_type": "markdown",
      "metadata": {
        "id": "view-in-github",
        "colab_type": "text"
      },
      "source": [
        "<a href=\"https://colab.research.google.com/github/zfauzya/python-course-with-Wotori/blob/main/Get%20top%20Hashtag.ipynb\" target=\"_parent\"><img src=\"https://colab.research.google.com/assets/colab-badge.svg\" alt=\"Open In Colab\"/></a>"
      ]
    },
    {
      "cell_type": "markdown",
      "metadata": {
        "id": "akH1PB3BgSbV"
      },
      "source": [
        "# Get top hastags"
      ]
    },
    {
      "cell_type": "code",
      "metadata": {
        "id": "sAYkQwBNUbdd"
      },
      "source": [
        "from urllib.request import Request, urlopen\n",
        "from bs4 import BeautifulSoup"
      ],
      "execution_count": null,
      "outputs": []
    },
    {
      "cell_type": "code",
      "metadata": {
        "id": "sGoZfB4hUrcp"
      },
      "source": [
        "site = \"https://twitter-trends.iamrohit.in/indonesia\"\n",
        "hdr = {'User-Agent': 'Mozilla/5.0'}\n",
        "req = Request(site,headers=hdr)\n",
        "page = urlopen(req)\n",
        "soup = BeautifulSoup(page)"
      ],
      "execution_count": null,
      "outputs": []
    },
    {
      "cell_type": "code",
      "metadata": {
        "id": "nhK5NLLPWMPI"
      },
      "source": [
        "top_hashes_part = soup.find(id=\"copyData\").find_all('a')"
      ],
      "execution_count": null,
      "outputs": []
    },
    {
      "cell_type": "code",
      "metadata": {
        "id": "vZlMzMOSWr4W"
      },
      "source": [
        "data_frame = []\n",
        "for item in top_hashes_part:\n",
        "  data_frame.append(\n",
        "      {\"hashtag\" : item.get_text(),\n",
        "       \"link\": item.get('href')}\n",
        "      )"
      ],
      "execution_count": null,
      "outputs": []
    },
    {
      "cell_type": "code",
      "metadata": {
        "colab": {
          "base_uri": "https://localhost:8080/"
        },
        "id": "KrytD69UW_c8",
        "outputId": "a893e507-b756-4870-8621-9174fdf9a788"
      },
      "source": [
        "data_frame"
      ],
      "execution_count": null,
      "outputs": [
        {
          "output_type": "execute_result",
          "data": {
            "text/plain": [
              "[{'hashtag': '#EXOcomeback',\n",
              "  'link': 'https://twitter.com/search?q=%23EXOcomeback'},\n",
              " {'hashtag': 'TO9ETHER WITH EXO',\n",
              "  'link': 'https://twitter.com/search?q=%22TO9ETHER+WITH+EXO%22'},\n",
              " {'hashtag': 'Depok', 'link': 'https://twitter.com/search?q=Depok'},\n",
              " {'hashtag': '#InsideOut1stWin',\n",
              "  'link': 'https://twitter.com/search?q=%23InsideOut1stWin'},\n",
              " {'hashtag': '#LagiLagiJNT',\n",
              "  'link': 'https://twitter.com/search?q=%23LagiLagiJNT'},\n",
              " {'hashtag': '#NUEST_14th_WIN',\n",
              "  'link': 'https://twitter.com/search?q=%23NUEST_14th_WIN'},\n",
              " {'hashtag': '#iKONKINGdom_돌아라팽이',\n",
              "  'link': 'https://twitter.com/search?q=%23iKONKINGdom_%EB%8F%8C%EC%95%84%EB%9D%BC%ED%8C%BD%EC%9D%B4'},\n",
              " {'hashtag': 'iKON SPINNING ON TOP',\n",
              "  'link': 'https://twitter.com/search?q=%22iKON+SPINNING+ON+TOP%22'},\n",
              " {'hashtag': 'TEAM LISA IS COMING',\n",
              "  'link': 'https://twitter.com/search?q=%22TEAM+LISA+IS+COMING%22'},\n",
              " {'hashtag': 'Gigi', 'link': 'https://twitter.com/search?q=Gigi'},\n",
              " {'hashtag': 'SF9 WIN THE KINGDOM',\n",
              "  'link': 'https://twitter.com/search?q=%22SF9+WIN+THE+KINGDOM%22'},\n",
              " {'hashtag': 'NCT U', 'link': 'https://twitter.com/search?q=%22NCT+U%22'},\n",
              " {'hashtag': 'paket akrab',\n",
              "  'link': 'https://twitter.com/search?q=%22paket+akrab%22'},\n",
              " {'hashtag': 'BOY STREAMING BATTLE D2',\n",
              "  'link': 'https://twitter.com/search?q=%22BOY+STREAMING+BATTLE+D2%22'},\n",
              " {'hashtag': 'SF9 FIGHTING',\n",
              "  'link': 'https://twitter.com/search?q=%22SF9+FIGHTING%22'},\n",
              " {'hashtag': 'NCT 127', 'link': 'https://twitter.com/search?q=%22NCT+127%22'},\n",
              " {'hashtag': 'Papua Aman Nyaman',\n",
              "  'link': 'https://twitter.com/search?q=%22Papua+Aman+Nyaman%22'},\n",
              " {'hashtag': 'Babi', 'link': 'https://twitter.com/search?q=Babi'},\n",
              " {'hashtag': 'Soree', 'link': 'https://twitter.com/search?q=Soree'},\n",
              " {'hashtag': 'Setan', 'link': 'https://twitter.com/search?q=Setan'},\n",
              " {'hashtag': 'MIN AKU MAU',\n",
              "  'link': 'https://twitter.com/search?q=%22MIN+AKU+MAU%22'},\n",
              " {'hashtag': 'Apink', 'link': 'https://twitter.com/search?q=Apink'},\n",
              " {'hashtag': 'Na PD', 'link': 'https://twitter.com/search?q=%22Na+PD%22'},\n",
              " {'hashtag': 'naeun', 'link': 'https://twitter.com/search?q=naeun'},\n",
              " {'hashtag': 'Wati', 'link': 'https://twitter.com/search?q=Wati'},\n",
              " {'hashtag': 'Adam Ibrahim',\n",
              "  'link': 'https://twitter.com/search?q=%22Adam+Ibrahim%22'},\n",
              " {'hashtag': 'Hetalia', 'link': 'https://twitter.com/search?q=Hetalia'},\n",
              " {'hashtag': 'Ustad', 'link': 'https://twitter.com/search?q=Ustad'},\n",
              " {'hashtag': 'Lily Sofia',\n",
              "  'link': 'https://twitter.com/search?q=%22Lily+Sofia%22'},\n",
              " {'hashtag': 'Sawangan', 'link': 'https://twitter.com/search?q=Sawangan'},\n",
              " {'hashtag': 'Selamat Hari Tari Sedunia',\n",
              "  'link': 'https://twitter.com/search?q=%22Selamat+Hari+Tari+Sedunia%22'},\n",
              " {'hashtag': 'Cuek', 'link': 'https://twitter.com/search?q=Cuek'},\n",
              " {'hashtag': \"Nuzulul Qur'an\",\n",
              "  'link': 'https://twitter.com/search?q=%22Nuzulul+Qur%27an%22'},\n",
              " {'hashtag': 'Tipe', 'link': 'https://twitter.com/search?q=Tipe'},\n",
              " {'hashtag': 'Yesung', 'link': 'https://twitter.com/search?q=Yesung'},\n",
              " {'hashtag': 'Menteri Pendidikan',\n",
              "  'link': 'https://twitter.com/search?q=%22Menteri+Pendidikan%22'},\n",
              " {'hashtag': 'D-27', 'link': 'https://twitter.com/search?q=D-27'},\n",
              " {'hashtag': 'Janji', 'link': 'https://twitter.com/search?q=Janji'},\n",
              " {'hashtag': 'Manja', 'link': 'https://twitter.com/search?q=Manja'},\n",
              " {'hashtag': 'Posesif', 'link': 'https://twitter.com/search?q=Posesif'},\n",
              " {'hashtag': 'Babel', 'link': 'https://twitter.com/search?q=Babel'},\n",
              " {'hashtag': 'Demokrat', 'link': 'https://twitter.com/search?q=Demokrat'},\n",
              " {'hashtag': 'Teknologi', 'link': 'https://twitter.com/search?q=Teknologi'},\n",
              " {'hashtag': '#NgomonginLeher',\n",
              "  'link': 'https://twitter.com/search?q=%23NgomonginLeher'},\n",
              " {'hashtag': '#YWY3mentorLISA',\n",
              "  'link': 'https://twitter.com/search?q=%23YWY3mentorLISA'},\n",
              " {'hashtag': '#SemuaTenangTerlindungi',\n",
              "  'link': 'https://twitter.com/search?q=%23SemuaTenangTerlindungi'},\n",
              " {'hashtag': '#ANISD', 'link': 'https://twitter.com/search?q=%23ANISD'},\n",
              " {'hashtag': '#SalutPKK', 'link': 'https://twitter.com/search?q=%23SalutPKK'},\n",
              " {'hashtag': '#SF9RiseToTheTop',\n",
              "  'link': 'https://twitter.com/search?q=%23SF9RiseToTheTop'},\n",
              " {'hashtag': '#ANITWTselcaDAY',\n",
              "  'link': 'https://twitter.com/search?q=%23ANITWTselcaDAY'}]"
            ]
          },
          "metadata": {
            "tags": []
          },
          "execution_count": 42
        }
      ]
    }
  ]
}